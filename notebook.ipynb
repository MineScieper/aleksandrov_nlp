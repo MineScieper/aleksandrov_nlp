{
 "cells": [
  {
   "cell_type": "code",
   "execution_count": 132,
   "id": "d87ea6e7",
   "metadata": {},
   "outputs": [],
   "source": [
    "import wordninja_enhanced as wn\n",
    "import pandas as pd\n",
    "import csv"
   ]
  },
  {
   "cell_type": "markdown",
   "id": "e68fa6d4",
   "metadata": {},
   "source": [
    "Загрузим словарь"
   ]
  },
  {
   "cell_type": "code",
   "execution_count": null,
   "id": "48091a44",
   "metadata": {},
   "outputs": [],
   "source": [
    "custom_lm = wn.LanguageModel(\n",
    "    language='custom',\n",
    "    word_file='word_frequency_flibusta_cleared_with_eng_words.txt.gz'\n",
    ")"
   ]
  },
  {
   "cell_type": "markdown",
   "id": "bc7ab1ae",
   "metadata": {},
   "source": [
    "Выполним предобработку входных данных (в некоторых строках содержатся запятые, приведённый ниже код обработает такие случаи корректно)"
   ]
  },
  {
   "cell_type": "code",
   "execution_count": null,
   "id": "cf4e60b4",
   "metadata": {},
   "outputs": [],
   "source": [
    "data = []\n",
    "with open('test_data.txt', 'r', encoding='utf-8') as f:\n",
    "    reader = csv.reader(f)\n",
    "    for row in reader:\n",
    "        row[1] = \",\".join(row[1:])\n",
    "        row = row[:2]\n",
    "        data.append(row)\n",
    "df = pd.DataFrame(data[1:], columns=data[0])"
   ]
  },
  {
   "cell_type": "markdown",
   "id": "ffe82a65",
   "metadata": {},
   "source": [
    "Создадим столбец \"text_with_spaces\", содержащий восстановленный текст с расставленными пробелами (для наглядности)"
   ]
  },
  {
   "cell_type": "code",
   "execution_count": 136,
   "id": "f8c0184e",
   "metadata": {},
   "outputs": [],
   "source": [
    "df[\"text_with_spaces\"] = df[\"text_no_spaces\"].apply(custom_lm.rejoin)"
   ]
  },
  {
   "cell_type": "markdown",
   "id": "1a8d96ee",
   "metadata": {},
   "source": [
    "Создадим столбец \"predicted_positions\", содержащий массив индексов расставленных пробелов"
   ]
  },
  {
   "cell_type": "code",
   "execution_count": 137,
   "id": "2df03497",
   "metadata": {},
   "outputs": [],
   "source": [
    "def find_spaces(s):\n",
    "    return [i for i, ltr in enumerate(s) if ltr == ' ']\n",
    "df[\"predicted_positions\"] = df[\"text_no_spaces\"].apply(custom_lm.rejoin).apply(find_spaces)"
   ]
  },
  {
   "cell_type": "code",
   "execution_count": 160,
   "id": "ae1f20e1",
   "metadata": {},
   "outputs": [
    {
     "data": {
      "text/html": [
       "<div>\n",
       "<style scoped>\n",
       "    .dataframe tbody tr th:only-of-type {\n",
       "        vertical-align: middle;\n",
       "    }\n",
       "\n",
       "    .dataframe tbody tr th {\n",
       "        vertical-align: top;\n",
       "    }\n",
       "\n",
       "    .dataframe thead th {\n",
       "        text-align: right;\n",
       "    }\n",
       "</style>\n",
       "<table border=\"1\" class=\"dataframe\">\n",
       "  <thead>\n",
       "    <tr style=\"text-align: right;\">\n",
       "      <th></th>\n",
       "      <th>id</th>\n",
       "      <th>text_no_spaces</th>\n",
       "      <th>text_with_spaces</th>\n",
       "      <th>predicted_positions</th>\n",
       "    </tr>\n",
       "  </thead>\n",
       "  <tbody>\n",
       "    <tr>\n",
       "      <th>45</th>\n",
       "      <td>45</td>\n",
       "      <td>сдамквартирумолодоженам</td>\n",
       "      <td>сдам квартиру молодоженам</td>\n",
       "      <td>[4, 13]</td>\n",
       "    </tr>\n",
       "    <tr>\n",
       "      <th>141</th>\n",
       "      <td>141</td>\n",
       "      <td>куплюноутбук,недорого,срочно</td>\n",
       "      <td>куплю ноутбук, недорого, срочно</td>\n",
       "      <td>[5, 14, 24]</td>\n",
       "    </tr>\n",
       "    <tr>\n",
       "      <th>489</th>\n",
       "      <td>489</td>\n",
       "      <td>Врядлибудетдуматьочем-тодругом.</td>\n",
       "      <td>Врядли будет думать о чем-то другом.</td>\n",
       "      <td>[6, 12, 19, 21, 28]</td>\n",
       "    </tr>\n",
       "    <tr>\n",
       "      <th>504</th>\n",
       "      <td>504</td>\n",
       "      <td>Пожалуйстанеумирай</td>\n",
       "      <td>Пожалуйста не умирай</td>\n",
       "      <td>[10, 13]</td>\n",
       "    </tr>\n",
       "    <tr>\n",
       "      <th>184</th>\n",
       "      <td>184</td>\n",
       "      <td>новыйфильтрдляводы</td>\n",
       "      <td>новый фильтр для воды</td>\n",
       "      <td>[5, 12, 16]</td>\n",
       "    </tr>\n",
       "    <tr>\n",
       "      <th>696</th>\n",
       "      <td>696</td>\n",
       "      <td>ОнВам–нестарыйбаркас</td>\n",
       "      <td>Он Вам – не старый баркас</td>\n",
       "      <td>[2, 6, 8, 11, 18]</td>\n",
       "    </tr>\n",
       "    <tr>\n",
       "      <th>201</th>\n",
       "      <td>201</td>\n",
       "      <td>ищугидапоМоскве</td>\n",
       "      <td>ищу гида по Москве</td>\n",
       "      <td>[3, 8, 11]</td>\n",
       "    </tr>\n",
       "    <tr>\n",
       "      <th>982</th>\n",
       "      <td>982</td>\n",
       "      <td>Поулицеидуя.</td>\n",
       "      <td>По улице иду я.</td>\n",
       "      <td>[2, 8, 12]</td>\n",
       "    </tr>\n",
       "    <tr>\n",
       "      <th>279</th>\n",
       "      <td>279</td>\n",
       "      <td>ищурепетиторапофизике</td>\n",
       "      <td>ищу репетитора по физике</td>\n",
       "      <td>[3, 14, 17]</td>\n",
       "    </tr>\n",
       "    <tr>\n",
       "      <th>643</th>\n",
       "      <td>643</td>\n",
       "      <td>Иявезусвоюбольшуюповозку</td>\n",
       "      <td>И я везу свою большую повозку</td>\n",
       "      <td>[1, 3, 8, 13, 21]</td>\n",
       "    </tr>\n",
       "  </tbody>\n",
       "</table>\n",
       "</div>"
      ],
      "text/plain": [
       "      id                   text_no_spaces  \\\n",
       "45    45          сдамквартирумолодоженам   \n",
       "141  141     куплюноутбук,недорого,срочно   \n",
       "489  489  Врядлибудетдуматьочем-тодругом.   \n",
       "504  504               Пожалуйстанеумирай   \n",
       "184  184               новыйфильтрдляводы   \n",
       "696  696             ОнВам–нестарыйбаркас   \n",
       "201  201                  ищугидапоМоскве   \n",
       "982  982                     Поулицеидуя.   \n",
       "279  279            ищурепетиторапофизике   \n",
       "643  643         Иявезусвоюбольшуюповозку   \n",
       "\n",
       "                         text_with_spaces  predicted_positions  \n",
       "45              сдам квартиру молодоженам              [4, 13]  \n",
       "141       куплю ноутбук, недорого, срочно          [5, 14, 24]  \n",
       "489  Врядли будет думать о чем-то другом.  [6, 12, 19, 21, 28]  \n",
       "504                  Пожалуйста не умирай             [10, 13]  \n",
       "184                 новый фильтр для воды          [5, 12, 16]  \n",
       "696             Он Вам – не старый баркас    [2, 6, 8, 11, 18]  \n",
       "201                    ищу гида по Москве           [3, 8, 11]  \n",
       "982                       По улице иду я.           [2, 8, 12]  \n",
       "279              ищу репетитора по физике          [3, 14, 17]  \n",
       "643         И я везу свою большую повозку    [1, 3, 8, 13, 21]  "
      ]
     },
     "execution_count": 160,
     "metadata": {},
     "output_type": "execute_result"
    }
   ],
   "source": [
    "df.sample(10)"
   ]
  },
  {
   "cell_type": "markdown",
   "id": "7a3387d9",
   "metadata": {},
   "source": [
    "Сохраним результат в result.txt"
   ]
  },
  {
   "cell_type": "code",
   "execution_count": 139,
   "id": "5a8c654d",
   "metadata": {},
   "outputs": [],
   "source": [
    "df.to_csv(\"result.txt\", columns=[\"id\", \"text_no_spaces\", \"predicted_positions\"], index=False)"
   ]
  },
  {
   "cell_type": "code",
   "execution_count": 140,
   "id": "e325c138",
   "metadata": {},
   "outputs": [
    {
     "data": {
      "text/html": [
       "<div>\n",
       "<style scoped>\n",
       "    .dataframe tbody tr th:only-of-type {\n",
       "        vertical-align: middle;\n",
       "    }\n",
       "\n",
       "    .dataframe tbody tr th {\n",
       "        vertical-align: top;\n",
       "    }\n",
       "\n",
       "    .dataframe thead th {\n",
       "        text-align: right;\n",
       "    }\n",
       "</style>\n",
       "<table border=\"1\" class=\"dataframe\">\n",
       "  <thead>\n",
       "    <tr style=\"text-align: right;\">\n",
       "      <th></th>\n",
       "      <th>id</th>\n",
       "      <th>text_no_spaces</th>\n",
       "      <th>predicted_positions</th>\n",
       "    </tr>\n",
       "  </thead>\n",
       "  <tbody>\n",
       "    <tr>\n",
       "      <th>0</th>\n",
       "      <td>0</td>\n",
       "      <td>куплюайфон14про</td>\n",
       "      <td>[5, 11, 14]</td>\n",
       "    </tr>\n",
       "    <tr>\n",
       "      <th>1</th>\n",
       "      <td>1</td>\n",
       "      <td>ищудомвПодмосковье</td>\n",
       "      <td>[3, 7, 9]</td>\n",
       "    </tr>\n",
       "    <tr>\n",
       "      <th>2</th>\n",
       "      <td>2</td>\n",
       "      <td>сдаюквартирусмебельюитехникой</td>\n",
       "      <td>[4, 13, 15, 23, 25]</td>\n",
       "    </tr>\n",
       "    <tr>\n",
       "      <th>3</th>\n",
       "      <td>3</td>\n",
       "      <td>новыйдивандоставканедорого</td>\n",
       "      <td>[5, 11, 20]</td>\n",
       "    </tr>\n",
       "    <tr>\n",
       "      <th>4</th>\n",
       "      <td>4</td>\n",
       "      <td>отдамдаромкошку</td>\n",
       "      <td>[5, 11]</td>\n",
       "    </tr>\n",
       "    <tr>\n",
       "      <th>...</th>\n",
       "      <td>...</td>\n",
       "      <td>...</td>\n",
       "      <td>...</td>\n",
       "    </tr>\n",
       "    <tr>\n",
       "      <th>1000</th>\n",
       "      <td>1000</td>\n",
       "      <td>Янеусну.</td>\n",
       "      <td>[1, 4]</td>\n",
       "    </tr>\n",
       "    <tr>\n",
       "      <th>1001</th>\n",
       "      <td>1001</td>\n",
       "      <td>Весна-яуженегреюпио.</td>\n",
       "      <td>[7, 11, 14, 19, 21, 23]</td>\n",
       "    </tr>\n",
       "    <tr>\n",
       "      <th>1002</th>\n",
       "      <td>1002</td>\n",
       "      <td>Весна-скоровырастеттрава.</td>\n",
       "      <td>[11, 20]</td>\n",
       "    </tr>\n",
       "    <tr>\n",
       "      <th>1003</th>\n",
       "      <td>1003</td>\n",
       "      <td>Весна-выпосмотрите,каккрасиво.</td>\n",
       "      <td>[8, 20, 24]</td>\n",
       "    </tr>\n",
       "    <tr>\n",
       "      <th>1004</th>\n",
       "      <td>1004</td>\n",
       "      <td>Весна-гдемояголова?</td>\n",
       "      <td>[9, 13]</td>\n",
       "    </tr>\n",
       "  </tbody>\n",
       "</table>\n",
       "<p>1005 rows × 3 columns</p>\n",
       "</div>"
      ],
      "text/plain": [
       "        id                  text_no_spaces      predicted_positions\n",
       "0        0                 куплюайфон14про              [5, 11, 14]\n",
       "1        1              ищудомвПодмосковье                [3, 7, 9]\n",
       "2        2   сдаюквартирусмебельюитехникой      [4, 13, 15, 23, 25]\n",
       "3        3      новыйдивандоставканедорого              [5, 11, 20]\n",
       "4        4                 отдамдаромкошку                  [5, 11]\n",
       "...    ...                             ...                      ...\n",
       "1000  1000                        Янеусну.                   [1, 4]\n",
       "1001  1001            Весна-яуженегреюпио.  [7, 11, 14, 19, 21, 23]\n",
       "1002  1002       Весна-скоровырастеттрава.                 [11, 20]\n",
       "1003  1003  Весна-выпосмотрите,каккрасиво.              [8, 20, 24]\n",
       "1004  1004             Весна-гдемояголова?                  [9, 13]\n",
       "\n",
       "[1005 rows x 3 columns]"
      ]
     },
     "execution_count": 140,
     "metadata": {},
     "output_type": "execute_result"
    }
   ],
   "source": [
    "pd.read_csv(\"result.txt\")"
   ]
  }
 ],
 "metadata": {
  "kernelspec": {
   "display_name": "aleksandrov_venv",
   "language": "python",
   "name": "python3"
  },
  "language_info": {
   "codemirror_mode": {
    "name": "ipython",
    "version": 3
   },
   "file_extension": ".py",
   "mimetype": "text/x-python",
   "name": "python",
   "nbconvert_exporter": "python",
   "pygments_lexer": "ipython3",
   "version": "3.13.2"
  }
 },
 "nbformat": 4,
 "nbformat_minor": 5
}
